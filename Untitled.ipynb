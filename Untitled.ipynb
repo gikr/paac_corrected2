{
 "cells": [
  {
   "cell_type": "code",
   "execution_count": 7,
   "metadata": {},
   "outputs": [],
   "source": [
    "def game_art_function_2(width, leng1, leng2, reward_location):\n",
    "\n",
    "    l_i, r_i = 0, 0\n",
    "    length = random.randint(leng1, leng2)\n",
    "    matrix = ['#########',\n",
    "              '#L     R#']\n",
    "    matrix += ['##@# #@##']\n",
    "\n",
    "\n",
    "    for i in range(int(length/2) - 2):\n",
    "        hint_position = random.randint(0,1)\n",
    "        if hint_position == 0:\n",
    "            r_i = r_i + 1\n",
    "            matrix += ['@@@# H@@@']\n",
    "        else:\n",
    "            l_i = l_i + 1\n",
    "            matrix += ['@@@H #@@@']\n",
    "        matrix += ['##@# #@##']\n",
    "\n",
    "    if reward_location == 0:\n",
    "        if r_i <= l_i:\n",
    "            for i in range(l_i - r_i + 1):\n",
    "                matrix = matrix[:-2]\n",
    "                matrix += ['@@@# H@@@']\n",
    "                matrix += ['##@# #@##']\n",
    "\n",
    "    else:\n",
    "        if l_i <= r_i:\n",
    "            for i in range(r_i - l_i + 1):\n",
    "                matrix = matrix[:-2]\n",
    "                matrix += ['@@@H #@@@']\n",
    "                matrix += ['##@# #@##']\n",
    "\n",
    "    matrix += ['+@@# #@@#']\n",
    "    matrix += ['@@@# #@@@']\n",
    "    matrix += ['####A####']\n",
    "    matrix += ['#########']\n",
    "    print(np.asarray(matrix))\n",
    "    return np.asarray(matrix), length"
   ]
  },
  {
   "cell_type": "code",
   "execution_count": 15,
   "metadata": {},
   "outputs": [
    {
     "name": "stdout",
     "output_type": "stream",
     "text": [
      "['#########' '@@@# H@@@' '##@# #@##' '+@@# #@@#' '@@@# #@@@' '####A####'\n",
      " '#########']\n"
     ]
    },
    {
     "data": {
      "text/plain": [
       "(array(['#########', '@@@# H@@@', '##@# #@##', '+@@# #@@#', '@@@# #@@@',\n",
       "        '####A####', '#########'],\n",
       "       dtype='<U9'), 5)"
      ]
     },
     "execution_count": 15,
     "metadata": {},
     "output_type": "execute_result"
    }
   ],
   "source": [
    "import random\n",
    "import numpy as np\n",
    "game_art_function_2(9,5,5,0)"
   ]
  },
  {
   "cell_type": "code",
   "execution_count": 20,
   "metadata": {},
   "outputs": [],
   "source": [
    "matrix = [1,2,3,4,5]\n",
    "\n",
    "#del matrix[-4:-2] \n",
    "matrix[-2:] = []"
   ]
  },
  {
   "cell_type": "code",
   "execution_count": 21,
   "metadata": {},
   "outputs": [
    {
     "data": {
      "text/plain": [
       "[1, 4, 5]"
      ]
     },
     "execution_count": 21,
     "metadata": {},
     "output_type": "execute_result"
    }
   ],
   "source": [
    "matrix"
   ]
  },
  {
   "cell_type": "code",
   "execution_count": null,
   "metadata": {},
   "outputs": [],
   "source": []
  }
 ],
 "metadata": {
  "kernelspec": {
   "display_name": "Python 3",
   "language": "python",
   "name": "python3"
  },
  "language_info": {
   "codemirror_mode": {
    "name": "ipython",
    "version": 3
   },
   "file_extension": ".py",
   "mimetype": "text/x-python",
   "name": "python",
   "nbconvert_exporter": "python",
   "pygments_lexer": "ipython3",
   "version": "3.6.4"
  }
 },
 "nbformat": 4,
 "nbformat_minor": 2
}
